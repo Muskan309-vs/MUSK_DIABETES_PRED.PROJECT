{
 "cells": [
  {
   "cell_type": "code",
   "execution_count": 1,
   "id": "bc117786-c46c-4eb6-9709-a71f2255c49e",
   "metadata": {},
   "outputs": [
    {
     "name": "stdout",
     "output_type": "stream",
     "text": [
      "1.26.4\n"
     ]
    }
   ],
   "source": [
    "import numpy as np\n",
    "print(np.__version__)"
   ]
  },
  {
   "cell_type": "code",
   "execution_count": 2,
   "id": "c26ccaf9-93d1-464e-87ee-6f12fde5c1fe",
   "metadata": {},
   "outputs": [
    {
     "name": "stdout",
     "output_type": "stream",
     "text": [
      "The array is :  [11 22 33 44 55]\n"
     ]
    }
   ],
   "source": [
    "arr1 = np.array([11,22,33,44,55])\n",
    "print(\"The array is : \",arr1)"
   ]
  },
  {
   "cell_type": "code",
   "execution_count": 4,
   "id": "f234023c-fdb1-4cb0-b0e1-7442f76b5394",
   "metadata": {},
   "outputs": [
    {
     "name": "stdout",
     "output_type": "stream",
     "text": [
      "type of array :  <class 'numpy.ndarray'>\n"
     ]
    }
   ],
   "source": [
    "print(\"type of array : \", type(arr1))"
   ]
  },
  {
   "cell_type": "code",
   "execution_count": 9,
   "id": "d048feba-f865-4bfe-9849-f7b73811a36f",
   "metadata": {},
   "outputs": [
    {
     "name": "stdout",
     "output_type": "stream",
     "text": [
      "The array is :  [ 77  88  99 100]\n",
      "<class 'numpy.ndarray'>\n"
     ]
    }
   ],
   "source": [
    "arr2 = np.array([77,88,99,100])\n",
    "print(\"The array is : \",arr2)\n",
    "print(type(arr2))"
   ]
  },
  {
   "cell_type": "code",
   "execution_count": 12,
   "id": "cc528954-e464-4bd8-86cb-54f2e5667f3b",
   "metadata": {},
   "outputs": [
    {
     "name": "stdout",
     "output_type": "stream",
     "text": [
      "[[1 2 3]\n",
      " [4 5 6]]\n",
      "The number of dimensions:  2\n",
      "The shape of array:  (2, 3)\n"
     ]
    }
   ],
   "source": [
    "arr3 = np.array([[1,2,3],[4,5,6]])\n",
    "print(arr3)\n",
    "print(\"The number of dimensions: \",arr3.ndim)\n",
    "print(\"The shape of array: \",arr3.shape)"
   ]
  },
  {
   "cell_type": "code",
   "execution_count": 15,
   "id": "f73cd3bf-fa94-4eed-9d21-633500c38062",
   "metadata": {},
   "outputs": [
    {
     "name": "stdout",
     "output_type": "stream",
     "text": [
      "[[[ 1  2  3]\n",
      "  [ 4  5  6]]\n",
      "\n",
      " [[11 22 33]\n",
      "  [44 55 66]]]\n",
      "The number of dimensions:  3\n",
      "The shape of array:  (2, 2, 3)\n"
     ]
    }
   ],
   "source": [
    "arr4 = np.array([[[1,2,3],[4,5,6]], [[11,22,33],[44,55,66]]])\n",
    "print(arr4)\n",
    "print(\"The number of dimensions: \",arr4.ndim)\n",
    "print(\"The shape of array: \",arr4.shape)"
   ]
  },
  {
   "cell_type": "code",
   "execution_count": 16,
   "id": "203e9c49-534b-4dd8-a388-bdc88890b23b",
   "metadata": {},
   "outputs": [
    {
     "name": "stdout",
     "output_type": "stream",
     "text": [
      "10\n"
     ]
    }
   ],
   "source": [
    "#Create a 0 dimension array or scalar \n",
    "import numpy as np\n",
    "arr = np.array(10)\n",
    "print(arr)"
   ]
  },
  {
   "cell_type": "code",
   "execution_count": 17,
   "id": "21cb169e-05cf-4b0e-a118-924bf1af4f99",
   "metadata": {},
   "outputs": [
    {
     "name": "stdout",
     "output_type": "stream",
     "text": [
      "[10 11 12 13 14 15]\n"
     ]
    }
   ],
   "source": [
    "# Create 1-d array using list objects\n",
    "arr = np.array([10,11,12,13,14,15]) # list of elements\n",
    "print(arr) # array syntax has list brackets but no commas "
   ]
  },
  {
   "cell_type": "code",
   "execution_count": 18,
   "id": "db71e1c0-d9b4-492f-b3c0-18fe84c06b0b",
   "metadata": {},
   "outputs": [
    {
     "name": "stdout",
     "output_type": "stream",
     "text": [
      "10 12 15\n"
     ]
    }
   ],
   "source": [
    "print(arr[0],arr[2],arr[5]) # in square brackets index value is passed "
   ]
  },
  {
   "cell_type": "code",
   "execution_count": 5,
   "id": "e9f58ccc-86f4-44fd-b5a1-81b3be96794c",
   "metadata": {},
   "outputs": [
    {
     "name": "stdout",
     "output_type": "stream",
     "text": [
      "[[1 2 3]\n",
      " [4 5 6]\n",
      " [7 8 9]]\n",
      "The size of array :  9\n",
      "<class 'numpy.ndarray'>\n",
      "The shape of array:  (3, 3)\n",
      "arr1[0,0] : \n",
      "arr1[2,3] : \n",
      "Datatype of each element of arr1= :  int32\n"
     ]
    }
   ],
   "source": [
    "# create a 2d array \n",
    "import numpy as np\n",
    "arr1 = np.array([[1,2,3],[4,5,6],[7,8,9]])\n",
    "arr2 = np.array([[10,20,30],[40,50,60],[70,80,90]])\n",
    "print(arr1)\n",
    "print(\"The size of array : \",arr1.size)\n",
    "print(type(arr1))\n",
    "print(\"The shape of array: \",arr1.shape)\n",
    "# pick up an element write the row no. and column no.\n",
    "print(\"arr1[0,0] : \",)\n",
    "print(\"arr1[2,3] : \",)\n",
    "\n",
    "# to check the datatype of each array itnem dtype is used \n",
    "print(\"Datatype of each element of arr1= : \",arr1.dtype)\n",
    "                "
   ]
  },
  {
   "cell_type": "code",
   "execution_count": 25,
   "id": "02692052-9100-49dd-8bc6-b12d53daf401",
   "metadata": {},
   "outputs": [
    {
     "name": "stdout",
     "output_type": "stream",
     "text": [
      "{'w', 't', 'k', 'h'}\n",
      "<class 'numpy.ndarray'>\n",
      "0\n",
      "1\n"
     ]
    }
   ],
   "source": [
    "import numpy as np\n",
    "arr = np.array({'w','t','h','k'})\n",
    "print(arr) # no indexing in sets \n",
    "print(type(arr))\n",
    "print(arr.ndim)\n",
    "print(arr.size) "
   ]
  },
  {
   "cell_type": "code",
   "execution_count": null,
   "id": "5c669b72-61b7-43a3-8cd3-f5370d9c65d7",
   "metadata": {},
   "outputs": [],
   "source": [
    "# reshape() function is used to reshape the array\n",
    "# it takes two parameters - rows and columns \n",
    "# the reshaped array must maintain size compatibility \n"
   ]
  },
  {
   "cell_type": "code",
   "execution_count": 7,
   "id": "82843a4f-eeb2-4de0-91e1-4c46fba52aa1",
   "metadata": {},
   "outputs": [
    {
     "name": "stdout",
     "output_type": "stream",
     "text": [
      "[[10.+0.j  1.+0.j]\n",
      " [20.+0.j  2.+0.j]\n",
      " [30.+0.j  3.+0.j]\n",
      " [40.+0.j  4.+0.j]]\n",
      "(4, 2)\n",
      "2\n"
     ]
    }
   ],
   "source": [
    "arr1 = np.array([(10,1),(20,2),(30,3),(40,4)],complex)\n",
    "print(arr1)\n",
    "print(arr1.shape)\n",
    "print(arr1.ndim)"
   ]
  },
  {
   "cell_type": "code",
   "execution_count": 12,
   "id": "5766d4ec-43c0-4092-a45a-05ec923220d9",
   "metadata": {},
   "outputs": [
    {
     "name": "stdout",
     "output_type": "stream",
     "text": [
      "arr4:  [[[[1.+0.j 2.+0.j 3.+0.j 4.+0.j 5.+0.j 6.+0.j 7.+0.j 8.+0.j]]]]\n",
      "The number of dimensions are :  4\n"
     ]
    }
   ],
   "source": [
    "# we can assign any number of dimensions to an array by using ndmin \n",
    "arr4 = np.array([1,2,3,4,5,6,7,8],ndmin = 4,dtype = complex )\n",
    "print(\"arr4: \",arr4)\n",
    "print(\"The number of dimensions are : \",arr4.ndim)  # ndim tells no. of dimensions"
   ]
  },
  {
   "cell_type": "code",
   "execution_count": 14,
   "id": "935b3374-da43-44b1-a47b-bf3bcb90effc",
   "metadata": {},
   "outputs": [
    {
     "name": "stdout",
     "output_type": "stream",
     "text": [
      "iteration:  1\n",
      "iteration:  2\n",
      "iteration:  3\n",
      "iteration:  4\n",
      "iteration:  5\n"
     ]
    }
   ],
   "source": [
    "#iteration in 1d array\n",
    "arr1 = ([1,2,3,4,5])\n",
    "for i in arr1:\n",
    "    print( \"iteration: \",i)"
   ]
  },
  {
   "cell_type": "code",
   "execution_count": 24,
   "id": "76384c19-cb9e-4a6d-8f71-ada5511e4975",
   "metadata": {},
   "outputs": [
    {
     "name": "stdout",
     "output_type": "stream",
     "text": [
      "row: 3  :  [8, 9, 10]\n",
      "all elements of row are:  1\n",
      "all elements of row are:  2\n",
      "all elements of row are:  3\n",
      "all elements of row are:  5\n",
      "all elements of row are:  6\n",
      "all elements of row are:  7\n",
      "all elements of row are:  8\n",
      "all elements of row are:  9\n",
      "all elements of row are:  10\n"
     ]
    }
   ],
   "source": [
    "arr2 = ([[1,2,3],[5,6,7],[8,9,10]])\n",
    "# for loop to print each row\n",
    "# declaring int as integer in advance\n",
    "count: int = 0\n",
    "for row in arr2:\n",
    " count = count +1 \n",
    "print( \"row:\" ,count,\" : \",row)\n",
    "\n",
    "# to print individual elements of row\n",
    "for row in arr2:\n",
    " for i in row: \n",
    "  print(\"all elements of row are: \",i)"
   ]
  },
  {
   "cell_type": "raw",
   "id": "f4a0ad7c-abc0-4fac-8ea4-cbc7b8f93b6b",
   "metadata": {},
   "source": []
  }
 ],
 "metadata": {
  "kernelspec": {
   "display_name": "Python 3 (ipykernel)",
   "language": "python",
   "name": "python3"
  },
  "language_info": {
   "codemirror_mode": {
    "name": "ipython",
    "version": 3
   },
   "file_extension": ".py",
   "mimetype": "text/x-python",
   "name": "python",
   "nbconvert_exporter": "python",
   "pygments_lexer": "ipython3",
   "version": "3.11.7"
  }
 },
 "nbformat": 4,
 "nbformat_minor": 5
}
